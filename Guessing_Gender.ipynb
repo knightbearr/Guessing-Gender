{
  "nbformat": 4,
  "nbformat_minor": 0,
  "metadata": {
    "colab": {
      "name": "Guessing-Gender.ipynb",
      "provenance": []
    },
    "kernelspec": {
      "name": "python3",
      "display_name": "Python 3"
    },
    "language_info": {
      "name": "python"
    }
  },
  "cells": [
    {
      "cell_type": "markdown",
      "metadata": {
        "id": "7XPmmvERDajC"
      },
      "source": [
        "## **Guessing Gender by Height and Weight**\n",
        "\n",
        "note : this Machine Learning model inspired by **YouTube** channel names **indonesia_belajar**, and i modified this model with more data.\n",
        "\n",
        "note : sorry if my English typing is bad, hopefully you guys can understand."
      ]
    },
    {
      "cell_type": "markdown",
      "metadata": {
        "id": "JvyFdiOvEFhh"
      },
      "source": [
        "## **Import The Important Module**\n",
        "\n",
        "import the module that we want to use for this research."
      ]
    },
    {
      "cell_type": "code",
      "metadata": {
        "id": "ebk4S-CsDYTB"
      },
      "source": [
        "import numpy as np\n",
        "import pandas as pd\n",
        "import matplotlib.pyplot as plt\n",
        "from sklearn.preprocessing import LabelBinarizer\n",
        "from sklearn.neighbors import KNeighborsClassifier\n",
        "from sklearn.model_selection import train_test_split\n",
        "from sklearn.metrics import classification_report"
      ],
      "execution_count": 40,
      "outputs": []
    },
    {
      "cell_type": "markdown",
      "metadata": {
        "id": "VTsawJuCHaMK"
      },
      "source": [
        "## **Import The Dataset**\n",
        "\n",
        "import the dataset\n",
        "\n",
        "note : this dataset is not truly true, and not 100% true guessing what's your gender, because the dataset is not complete at all, that's just Weight and Height, i made this dataset, and get the data from : https://kaltim.idntimes.com/health/fitness/viktor-yudha/tinggi-badan-ideal-orang-dewasa-regional-kaltim/7\n",
        "\n",
        "you guys can check it."
      ]
    },
    {
      "cell_type": "code",
      "metadata": {
        "colab": {
          "base_uri": "https://localhost:8080/",
          "height": 202
        },
        "id": "b_I5H5CAIuaQ",
        "outputId": "4b602c87-14e3-4071-bc33-aed87aa9726c"
      },
      "source": [
        "data_df = pd.read_csv('/content/dataset.csv')\n",
        "data_df.head()"
      ],
      "execution_count": 10,
      "outputs": [
        {
          "output_type": "execute_result",
          "data": {
            "text/html": [
              "<div>\n",
              "<style scoped>\n",
              "    .dataframe tbody tr th:only-of-type {\n",
              "        vertical-align: middle;\n",
              "    }\n",
              "\n",
              "    .dataframe tbody tr th {\n",
              "        vertical-align: top;\n",
              "    }\n",
              "\n",
              "    .dataframe thead th {\n",
              "        text-align: right;\n",
              "    }\n",
              "</style>\n",
              "<table border=\"1\" class=\"dataframe\">\n",
              "  <thead>\n",
              "    <tr style=\"text-align: right;\">\n",
              "      <th></th>\n",
              "      <th>tinggi</th>\n",
              "      <th>jk</th>\n",
              "      <th>berat</th>\n",
              "    </tr>\n",
              "  </thead>\n",
              "  <tbody>\n",
              "    <tr>\n",
              "      <th>0</th>\n",
              "      <td>140</td>\n",
              "      <td>wanita</td>\n",
              "      <td>44</td>\n",
              "    </tr>\n",
              "    <tr>\n",
              "      <th>1</th>\n",
              "      <td>141</td>\n",
              "      <td>wanita</td>\n",
              "      <td>44</td>\n",
              "    </tr>\n",
              "    <tr>\n",
              "      <th>2</th>\n",
              "      <td>142</td>\n",
              "      <td>wanita</td>\n",
              "      <td>44</td>\n",
              "    </tr>\n",
              "    <tr>\n",
              "      <th>3</th>\n",
              "      <td>143</td>\n",
              "      <td>wanita</td>\n",
              "      <td>45</td>\n",
              "    </tr>\n",
              "    <tr>\n",
              "      <th>4</th>\n",
              "      <td>144</td>\n",
              "      <td>wanita</td>\n",
              "      <td>45</td>\n",
              "    </tr>\n",
              "  </tbody>\n",
              "</table>\n",
              "</div>"
            ],
            "text/plain": [
              "   tinggi      jk  berat\n",
              "0     140  wanita     44\n",
              "1     141  wanita     44\n",
              "2     142  wanita     44\n",
              "3     143  wanita     45\n",
              "4     144  wanita     45"
            ]
          },
          "metadata": {
            "tags": []
          },
          "execution_count": 10
        }
      ]
    },
    {
      "cell_type": "markdown",
      "metadata": {
        "id": "eCrinCcNKvnx"
      },
      "source": [
        "## **Checking The Dataset**\n",
        "\n",
        "we must check the data every time we want to make a model, because this is the important thing, if you suddenly meet a bad dataset, wether you want it or not, you must clean the dataset. since we use my dataset, i guarantee the data is 100% clean XD "
      ]
    },
    {
      "cell_type": "code",
      "metadata": {
        "colab": {
          "base_uri": "https://localhost:8080/"
        },
        "id": "tIwp-lM_9Pdb",
        "outputId": "c1f936f1-99b8-4b34-e00f-6a5d06dfdb56"
      },
      "source": [
        "data_df.shape"
      ],
      "execution_count": 11,
      "outputs": [
        {
          "output_type": "execute_result",
          "data": {
            "text/plain": [
              "(42, 3)"
            ]
          },
          "metadata": {
            "tags": []
          },
          "execution_count": 11
        }
      ]
    },
    {
      "cell_type": "code",
      "metadata": {
        "colab": {
          "base_uri": "https://localhost:8080/",
          "height": 294
        },
        "id": "qgvqo2c59mEh",
        "outputId": "2306dc2a-3046-44dd-ddca-703cc1a2a9c3"
      },
      "source": [
        "data_df.describe()"
      ],
      "execution_count": 12,
      "outputs": [
        {
          "output_type": "execute_result",
          "data": {
            "text/html": [
              "<div>\n",
              "<style scoped>\n",
              "    .dataframe tbody tr th:only-of-type {\n",
              "        vertical-align: middle;\n",
              "    }\n",
              "\n",
              "    .dataframe tbody tr th {\n",
              "        vertical-align: top;\n",
              "    }\n",
              "\n",
              "    .dataframe thead th {\n",
              "        text-align: right;\n",
              "    }\n",
              "</style>\n",
              "<table border=\"1\" class=\"dataframe\">\n",
              "  <thead>\n",
              "    <tr style=\"text-align: right;\">\n",
              "      <th></th>\n",
              "      <th>tinggi</th>\n",
              "      <th>berat</th>\n",
              "    </tr>\n",
              "  </thead>\n",
              "  <tbody>\n",
              "    <tr>\n",
              "      <th>count</th>\n",
              "      <td>42.000000</td>\n",
              "      <td>42.000000</td>\n",
              "    </tr>\n",
              "    <tr>\n",
              "      <th>mean</th>\n",
              "      <td>160.500000</td>\n",
              "      <td>53.166667</td>\n",
              "    </tr>\n",
              "    <tr>\n",
              "      <th>std</th>\n",
              "      <td>12.267844</td>\n",
              "      <td>7.802178</td>\n",
              "    </tr>\n",
              "    <tr>\n",
              "      <th>min</th>\n",
              "      <td>140.000000</td>\n",
              "      <td>44.000000</td>\n",
              "    </tr>\n",
              "    <tr>\n",
              "      <th>25%</th>\n",
              "      <td>150.250000</td>\n",
              "      <td>46.000000</td>\n",
              "    </tr>\n",
              "    <tr>\n",
              "      <th>50%</th>\n",
              "      <td>160.500000</td>\n",
              "      <td>50.500000</td>\n",
              "    </tr>\n",
              "    <tr>\n",
              "      <th>75%</th>\n",
              "      <td>170.750000</td>\n",
              "      <td>61.000000</td>\n",
              "    </tr>\n",
              "    <tr>\n",
              "      <th>max</th>\n",
              "      <td>181.000000</td>\n",
              "      <td>68.000000</td>\n",
              "    </tr>\n",
              "  </tbody>\n",
              "</table>\n",
              "</div>"
            ],
            "text/plain": [
              "           tinggi      berat\n",
              "count   42.000000  42.000000\n",
              "mean   160.500000  53.166667\n",
              "std     12.267844   7.802178\n",
              "min    140.000000  44.000000\n",
              "25%    150.250000  46.000000\n",
              "50%    160.500000  50.500000\n",
              "75%    170.750000  61.000000\n",
              "max    181.000000  68.000000"
            ]
          },
          "metadata": {
            "tags": []
          },
          "execution_count": 12
        }
      ]
    },
    {
      "cell_type": "code",
      "metadata": {
        "colab": {
          "base_uri": "https://localhost:8080/"
        },
        "id": "qyvMUSAv_bfI",
        "outputId": "bbdc0ad2-01ee-4f80-884f-5a3ea7c5161e"
      },
      "source": [
        "data_df.keys()"
      ],
      "execution_count": 13,
      "outputs": [
        {
          "output_type": "execute_result",
          "data": {
            "text/plain": [
              "Index(['tinggi', 'jk', 'berat'], dtype='object')"
            ]
          },
          "metadata": {
            "tags": []
          },
          "execution_count": 13
        }
      ]
    },
    {
      "cell_type": "markdown",
      "metadata": {
        "id": "sbbHTbpRJN-_"
      },
      "source": [
        "## **Visualize  The Data**\n",
        "\n",
        "the first think we have to do is visualize the data, because from there we can choose which way is good to this dataset."
      ]
    },
    {
      "cell_type": "code",
      "metadata": {
        "colab": {
          "base_uri": "https://localhost:8080/",
          "height": 294
        },
        "id": "dbnZWGHyJDIM",
        "outputId": "d35f212a-f31f-4097-ab5c-f685ca84aecd"
      },
      "source": [
        "fig, ax = plt.subplots()\n",
        "\n",
        "for jk, d in data_df.groupby('jk'):\n",
        "    ax.scatter(d['tinggi'], d['berat'], label=jk)\n",
        "\n",
        "plt.legend(loc='upper left')\n",
        "plt.title('Scatter of Height, Weight, and Gender')\n",
        "plt.xlabel('Height (cm)')\n",
        "plt.ylabel('Weight (kg)')\n",
        "plt.grid(True)\n",
        "plt.show()"
      ],
      "execution_count": 17,
      "outputs": [
        {
          "output_type": "display_data",
          "data": {
            "image/png": "[encoded data removed]",
            "text/plain": [
              "<Figure size 432x288 with 1 Axes>"
            ]
          },
          "metadata": {
            "tags": [],
            "needs_background": "light"
          }
        }
      ]
    },
    {
      "cell_type": "markdown",
      "metadata": {
        "id": "64kaXY14CAvB"
      },
      "source": [
        "## **Classification with KNN**\n",
        "\n",
        "since the data is look good and nice if we use KNN, then we use KNN for this model."
      ]
    },
    {
      "cell_type": "code",
      "metadata": {
        "colab": {
          "base_uri": "https://localhost:8080/"
        },
        "id": "m6iGKtcuBqsy",
        "outputId": "452aaef2-cb16-468c-e100-1085b15420b8"
      },
      "source": [
        "X = np.array(data_df[['tinggi', 'berat']])\n",
        "y = np.array(data_df['jk'])\n",
        "\n",
        "X_train, X_test, y_train, y_test = train_test_split(X, y, test_size=0.1, stratify=y ,random_state=1)\n",
        "\n",
        "print(f'X_train :\\n{X_train.shape}\\nX_test : {X_test.shape}\\nX : {X.shape}')\n",
        "print(f'y_train : {y_train.shape}\\ny_test : {y_test.shape}\\ny : {y.shape}\\n')\n",
        "print(f'features :\\n{X_train}\\n')\n",
        "print(f'labels :\\n{y_train}')"
      ],
      "execution_count": 31,
      "outputs": [
        {
          "output_type": "stream",
          "text": [
            "X_train :\n",
            "(37, 2)\n",
            "X_test : (5, 2)\n",
            "X : (42, 2)\n",
            "y_train : (37,)\n",
            "y_test : (5,)\n",
            "y : (42,)\n",
            "\n",
            "features :\n",
            "[[160  52]\n",
            " [150  47]\n",
            " [156  50]\n",
            " [176  65]\n",
            " [155  50]\n",
            " [152  48]\n",
            " [177  65]\n",
            " [157  51]\n",
            " [149  46]\n",
            " [161  46]\n",
            " [167  56]\n",
            " [151  47]\n",
            " [146  45]\n",
            " [164  50]\n",
            " [169  58]\n",
            " [141  44]\n",
            " [180  66]\n",
            " [166  56]\n",
            " [178  66]\n",
            " [143  45]\n",
            " [175  63]\n",
            " [181  68]\n",
            " [142  44]\n",
            " [162  46]\n",
            " [168  56]\n",
            " [140  44]\n",
            " [148  46]\n",
            " [179  66]\n",
            " [153  48]\n",
            " [159  52]\n",
            " [170  58]\n",
            " [145  45]\n",
            " [171  62]\n",
            " [174  63]\n",
            " [165  54]\n",
            " [147  46]\n",
            " [163  48]]\n",
            "\n",
            "labels :\n",
            "['wanita' 'wanita' 'wanita' 'pria' 'wanita' 'wanita' 'pria' 'wanita'\n",
            " 'wanita' 'pria' 'pria' 'wanita' 'wanita' 'pria' 'pria' 'wanita' 'pria'\n",
            " 'pria' 'pria' 'wanita' 'pria' 'pria' 'wanita' 'pria' 'pria' 'wanita'\n",
            " 'wanita' 'pria' 'wanita' 'wanita' 'pria' 'wanita' 'pria' 'pria' 'pria'\n",
            " 'wanita' 'pria']\n"
          ],
          "name": "stdout"
        }
      ]
    },
    {
      "cell_type": "markdown",
      "metadata": {
        "id": "BFjFqJGEEKFS"
      },
      "source": [
        "as we see in the output above, the feature is very good and ready to rock n roll, but the ***labels/target*** is not good since we want to predict the weight and the height later, then we must change the ***labels/target*** with ***LabelBinarizer***."
      ]
    },
    {
      "cell_type": "code",
      "metadata": {
        "colab": {
          "base_uri": "https://localhost:8080/"
        },
        "id": "FbNOKJBQCaj1",
        "outputId": "aaa67abd-0887-4665-ac50-0a648dd9a64e"
      },
      "source": [
        "lb = LabelBinarizer()\n",
        "y_train = lb.fit_transform(y_train)\n",
        "print(f'y_train :\\n{y_train}')"
      ],
      "execution_count": 27,
      "outputs": [
        {
          "output_type": "stream",
          "text": [
            "y_train :\n",
            "[[1]\n",
            " [1]\n",
            " [1]\n",
            " [0]\n",
            " [1]\n",
            " [1]\n",
            " [0]\n",
            " [1]\n",
            " [1]\n",
            " [0]\n",
            " [0]\n",
            " [1]\n",
            " [1]\n",
            " [0]\n",
            " [0]\n",
            " [1]\n",
            " [0]\n",
            " [0]\n",
            " [0]\n",
            " [1]\n",
            " [0]\n",
            " [0]\n",
            " [1]\n",
            " [0]\n",
            " [0]\n",
            " [1]\n",
            " [1]\n",
            " [0]\n",
            " [1]\n",
            " [1]\n",
            " [0]\n",
            " [1]\n",
            " [0]\n",
            " [0]\n",
            " [0]\n",
            " [1]\n",
            " [0]]\n"
          ],
          "name": "stdout"
        }
      ]
    },
    {
      "cell_type": "markdown",
      "metadata": {
        "id": "eDirFFP_FNwB"
      },
      "source": [
        "the output above looks nice, but if we want to use the label for model, we have to change the shape of ***y_train*** to be flat, since we want to change the ***y_train*** to be flat, we can use ***flatten()*** function for this case."
      ]
    },
    {
      "cell_type": "code",
      "metadata": {
        "colab": {
          "base_uri": "https://localhost:8080/"
        },
        "id": "RdHuEv_kFLzG",
        "outputId": "05148f43-0e86-4a08-9d62-18406b4a67ea"
      },
      "source": [
        "y_train = y_train.flatten()\n",
        "print(f'y_train : {y_train}')"
      ],
      "execution_count": 28,
      "outputs": [
        {
          "output_type": "stream",
          "text": [
            "y_train : [1 1 1 0 1 1 0 1 1 0 0 1 1 0 0 1 0 0 0 1 0 0 1 0 0 1 1 0 1 1 0 1 0 0 0 1 0]\n"
          ],
          "name": "stdout"
        }
      ]
    },
    {
      "cell_type": "markdown",
      "metadata": {
        "id": "UzstS7QSIXXx"
      },
      "source": [
        "## **Training KNN Classification Model**\n",
        "\n",
        "training the data with K Nearest Neighbors Classifier."
      ]
    },
    {
      "cell_type": "code",
      "metadata": {
        "colab": {
          "base_uri": "https://localhost:8080/"
        },
        "id": "5vPPIE95GKQO",
        "outputId": "f31215a6-e4fd-4e9d-cd84-731877bc1fe6"
      },
      "source": [
        "model = KNeighborsClassifier(n_neighbors=5, weights='uniform', algorithm='auto')\n",
        "model.fit(X_train, y_train)"
      ],
      "execution_count": 32,
      "outputs": [
        {
          "output_type": "execute_result",
          "data": {
            "text/plain": [
              "KNeighborsClassifier(algorithm='auto', leaf_size=30, metric='minkowski',\n",
              "                     metric_params=None, n_jobs=None, n_neighbors=5, p=2,\n",
              "                     weights='uniform')"
            ]
          },
          "metadata": {
            "tags": []
          },
          "execution_count": 32
        }
      ]
    },
    {
      "cell_type": "markdown",
      "metadata": {
        "id": "e-85L3KTJrpy"
      },
      "source": [
        "## **Prediction and See The Accuracy**\n",
        "\n",
        "as you guys can see, i'm using ***classification_report***, because this function have a good and complete accuracy from every single accuracy on this ***sklearn.metrics*** modul"
      ]
    },
    {
      "cell_type": "code",
      "metadata": {
        "colab": {
          "base_uri": "https://localhost:8080/"
        },
        "id": "0prHLz_zJPA_",
        "outputId": "ce00a57d-ce07-429e-87cf-b84cff630184"
      },
      "source": [
        "y_pred = model.predict(X_test)\n",
        "y_pred"
      ],
      "execution_count": 33,
      "outputs": [
        {
          "output_type": "execute_result",
          "data": {
            "text/plain": [
              "array(['pria', 'wanita', 'pria', 'wanita', 'wanita'], dtype=object)"
            ]
          },
          "metadata": {
            "tags": []
          },
          "execution_count": 33
        }
      ]
    },
    {
      "cell_type": "code",
      "metadata": {
        "colab": {
          "base_uri": "https://localhost:8080/"
        },
        "id": "6KeRI7s1JYds",
        "outputId": "6283f1b4-469d-4f37-a15d-e8d7370d1f9c"
      },
      "source": [
        "cls_report = classification_report(y_test, y_pred)\n",
        "\n",
        "print(f'Classification Report : \\n{cls_report}')"
      ],
      "execution_count": 35,
      "outputs": [
        {
          "output_type": "stream",
          "text": [
            "Classification Report : \n",
            "              precision    recall  f1-score   support\n",
            "\n",
            "        pria       1.00      1.00      1.00         2\n",
            "      wanita       1.00      1.00      1.00         3\n",
            "\n",
            "    accuracy                           1.00         5\n",
            "   macro avg       1.00      1.00      1.00         5\n",
            "weighted avg       1.00      1.00      1.00         5\n",
            "\n"
          ],
          "name": "stdout"
        }
      ]
    },
    {
      "cell_type": "markdown",
      "metadata": {
        "id": "mXueGK1uKnaX"
      },
      "source": [
        "## **Making A Predictive System**"
      ]
    },
    {
      "cell_type": "code",
      "metadata": {
        "colab": {
          "base_uri": "https://localhost:8080/"
        },
        "id": "kFvXHygMKimR",
        "outputId": "30afdd88-5206-428d-9cc7-576e95a15f89"
      },
      "source": [
        "input_data = (150, 48) # input your height and weight here\n",
        "\n",
        "# Changing the data type to numpy array\n",
        "change_input = np.asarray(input_data)\n",
        "\n",
        "# Reshape the numpy array as we are predicting for one instance\n",
        "reshape_array = change_input.reshape(1, -1)\n",
        "\n",
        "prediction = model.predict(reshape_array)\n",
        "print(prediction)\n",
        "\n",
        "if(prediction == [0]):\n",
        "    print('The Gender is Male')\n",
        "else:\n",
        "    print('The Gender is Female')"
      ],
      "execution_count": 42,
      "outputs": [
        {
          "output_type": "stream",
          "text": [
            "['wanita']\n",
            "The Gender is Female\n"
          ],
          "name": "stdout"
        }
      ]
    },
    {
      "cell_type": "markdown",
      "metadata": {
        "id": "iR7aCTw2J21n"
      },
      "source": [
        "# **Going Fine and Nice.**"
      ]
    }
  ]
}